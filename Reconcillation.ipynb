{
 "cells": [
  {
   "cell_type": "code",
   "execution_count": 1,
   "id": "252604ca",
   "metadata": {},
   "outputs": [],
   "source": [
    "import os"
   ]
  },
  {
   "cell_type": "code",
   "execution_count": 3,
   "id": "e96da19f",
   "metadata": {},
   "outputs": [
    {
     "data": {
      "text/plain": [
       "'/home/birdyzz/code'"
      ]
     },
     "execution_count": 3,
     "metadata": {},
     "output_type": "execute_result"
    }
   ],
   "source": [
    "os.getcwd()"
   ]
  },
  {
   "cell_type": "code",
   "execution_count": 4,
   "id": "d6d4f1e8",
   "metadata": {},
   "outputs": [],
   "source": [
    "import pandas as pd\n",
    "import numpy as py"
   ]
  },
  {
   "cell_type": "code",
   "execution_count": 11,
   "id": "8d7ae008",
   "metadata": {},
   "outputs": [
    {
     "name": "stdout",
     "output_type": "stream",
     "text": [
      "Collecting xlrd\n",
      "  Downloading xlrd-2.0.1-py2.py3-none-any.whl.metadata (3.4 kB)\n",
      "Downloading xlrd-2.0.1-py2.py3-none-any.whl (96 kB)\n",
      "\u001b[2K   \u001b[90m━━━━━━━━━━━━━━━━━━━━━━━━━━━━━━━━━━━━━━━━\u001b[0m \u001b[32m96.5/96.5 kB\u001b[0m \u001b[31m2.2 MB/s\u001b[0m eta \u001b[36m0:00:00\u001b[0ma \u001b[36m0:00:01\u001b[0m\n",
      "\u001b[?25hInstalling collected packages: xlrd\n",
      "Successfully installed xlrd-2.0.1\n",
      "\n",
      "\u001b[1m[\u001b[0m\u001b[34;49mnotice\u001b[0m\u001b[1;39;49m]\u001b[0m\u001b[39;49m A new release of pip is available: \u001b[0m\u001b[31;49m23.3.2\u001b[0m\u001b[39;49m -> \u001b[0m\u001b[32;49m24.0\u001b[0m\n",
      "\u001b[1m[\u001b[0m\u001b[34;49mnotice\u001b[0m\u001b[1;39;49m]\u001b[0m\u001b[39;49m To update, run: \u001b[0m\u001b[32;49mpip install --upgrade pip\u001b[0m\n"
     ]
    }
   ],
   "source": [
    "!pip install xlrd"
   ]
  },
  {
   "cell_type": "code",
   "execution_count": 40,
   "id": "bca31820",
   "metadata": {
    "scrolled": true
   },
   "outputs": [],
   "source": [
    "df = pd.read_excel(\"P0238 Feb 24.xls\", engine= 'xlrd', header = None,skiprows=25)"
   ]
  },
  {
   "cell_type": "code",
   "execution_count": 41,
   "id": "77ffa7c9",
   "metadata": {},
   "outputs": [],
   "source": [
    "df = df.iloc[:,1:]"
   ]
  },
  {
   "cell_type": "code",
   "execution_count": 42,
   "id": "c44b193e",
   "metadata": {},
   "outputs": [],
   "source": [
    "df = df.drop([2,3,4,5,6,7,8,9,10,11,12,13,14,15,16,17,19,20,21,22,24,25,26,28,29,30,31,32,34],axis=1)"
   ]
  },
  {
   "cell_type": "code",
   "execution_count": 63,
   "id": "694ac95c",
   "metadata": {},
   "outputs": [],
   "source": [
    "df = df.iloc[:-15,:]"
   ]
  },
  {
   "cell_type": "code",
   "execution_count": 91,
   "id": "9e825993",
   "metadata": {},
   "outputs": [],
   "source": [
    "df.columns=[\"Invoice No.\", \"Invoice Date\", \"Due Date\",\"Batch Entry\", \"Transaction Amount\",\"Balance\"]"
   ]
  },
  {
   "cell_type": "code",
   "execution_count": 80,
   "id": "6d527f50",
   "metadata": {},
   "outputs": [],
   "source": [
    "df['Invoice Date'] = pd.to_datetime(df['Invoice Date'])"
   ]
  },
  {
   "cell_type": "code",
   "execution_count": 92,
   "id": "746a639e",
   "metadata": {},
   "outputs": [],
   "source": [
    "df['Invoice No.'] = df['Invoice No.'].apply(lambda x : int(x))"
   ]
  },
  {
   "cell_type": "code",
   "execution_count": 95,
   "id": "b5aa0b01",
   "metadata": {},
   "outputs": [
    {
     "data": {
      "text/plain": [
       "Invoice Date\n",
       "2024-02-01     6791.82\n",
       "2024-02-02     3027.15\n",
       "2024-02-03     6066.26\n",
       "2024-02-04    10728.18\n",
       "2024-02-05     4434.07\n",
       "2024-02-06     3907.49\n",
       "2024-02-07     5015.57\n",
       "2024-02-08     3169.59\n",
       "2024-02-09     5155.95\n",
       "2024-02-10      231.87\n",
       "2024-02-11       57.98\n",
       "2024-02-12      124.88\n",
       "2024-02-13      181.19\n",
       "2024-02-14      300.58\n",
       "2024-02-15      341.60\n",
       "2024-02-16      271.99\n",
       "2024-02-17      135.52\n",
       "2024-02-18      772.55\n",
       "2024-02-19       60.19\n",
       "2024-02-20      119.71\n",
       "2024-02-21        8.64\n",
       "2024-02-22       99.27\n",
       "2024-02-23       25.07\n",
       "2024-02-24       64.91\n",
       "2024-02-25      197.60\n",
       "2024-02-26      245.73\n",
       "2024-02-27       90.99\n",
       "2024-02-29      601.49\n",
       "Name: Transaction Amount, dtype: float64"
      ]
     },
     "execution_count": 95,
     "metadata": {},
     "output_type": "execute_result"
    }
   ],
   "source": [
    "df.groupby(['Invoice Date'])['Transaction Amount'].sum()"
   ]
  },
  {
   "cell_type": "code",
   "execution_count": null,
   "id": "80346b3a",
   "metadata": {},
   "outputs": [],
   "source": []
  }
 ],
 "metadata": {
  "kernelspec": {
   "display_name": "Python 3 (ipykernel)",
   "language": "python",
   "name": "python3"
  },
  "language_info": {
   "codemirror_mode": {
    "name": "ipython",
    "version": 3
   },
   "file_extension": ".py",
   "mimetype": "text/x-python",
   "name": "python",
   "nbconvert_exporter": "python",
   "pygments_lexer": "ipython3",
   "version": "3.10.6"
  },
  "toc": {
   "base_numbering": 1,
   "nav_menu": {},
   "number_sections": true,
   "sideBar": true,
   "skip_h1_title": false,
   "title_cell": "Table of Contents",
   "title_sidebar": "Contents",
   "toc_cell": false,
   "toc_position": {},
   "toc_section_display": true,
   "toc_window_display": false
  }
 },
 "nbformat": 4,
 "nbformat_minor": 5
}
